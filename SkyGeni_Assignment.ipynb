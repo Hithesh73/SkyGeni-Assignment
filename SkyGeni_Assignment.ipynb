{
 "cells": [
  {
   "cell_type": "code",
   "execution_count": 17,
   "id": "a7650307-90fb-4838-a79c-41bb8303f20d",
   "metadata": {},
   "outputs": [],
   "source": [
    "import pandas as pd\n",
    "import warnings\n",
    "warnings.filterwarnings(\"ignore\")"
   ]
  },
  {
   "cell_type": "code",
   "execution_count": 18,
   "id": "f8a50d9b-a008-4e62-a591-bfc5c05c1b1c",
   "metadata": {},
   "outputs": [],
   "source": [
    "# Reading the datasets\n",
    "payment_info = pd.read_csv(r\"C:\\Users\\Hitheswar.Reddy\\Downloads\\payment_information.csv\")\n",
    "subscription_info = pd.read_csv(r\"C:\\Users\\Hitheswar.Reddy\\Downloads\\subscription_information.csv\")\n",
    "industry_client_details = pd.read_csv(r\"C:\\Users\\Hitheswar.Reddy\\Downloads\\industry_client_details.csv\")\n",
    "financial_info = pd.read_csv(r\"C:\\Users\\Hitheswar.Reddy\\Downloads\\finanical_information.csv\")"
   ]
  },
  {
   "cell_type": "code",
   "execution_count": 19,
   "id": "d578b82d-6e8e-4f0e-9678-fabdb1b76eb1",
   "metadata": {},
   "outputs": [
    {
     "data": {
      "text/html": [
       "<div>\n",
       "<style scoped>\n",
       "    .dataframe tbody tr th:only-of-type {\n",
       "        vertical-align: middle;\n",
       "    }\n",
       "\n",
       "    .dataframe tbody tr th {\n",
       "        vertical-align: top;\n",
       "    }\n",
       "\n",
       "    .dataframe thead th {\n",
       "        text-align: right;\n",
       "    }\n",
       "</style>\n",
       "<table border=\"1\" class=\"dataframe\">\n",
       "  <thead>\n",
       "    <tr style=\"text-align: right;\">\n",
       "      <th></th>\n",
       "      <th>client_id</th>\n",
       "      <th>payment_date</th>\n",
       "      <th>amount_paid</th>\n",
       "      <th>payment_method</th>\n",
       "    </tr>\n",
       "  </thead>\n",
       "  <tbody>\n",
       "    <tr>\n",
       "      <th>0</th>\n",
       "      <td>6292156167</td>\n",
       "      <td>9/16/2019</td>\n",
       "      <td>447.0</td>\n",
       "      <td>Bank Transfer</td>\n",
       "    </tr>\n",
       "    <tr>\n",
       "      <th>1</th>\n",
       "      <td>7462725203</td>\n",
       "      <td>5/21/2018</td>\n",
       "      <td>379.7</td>\n",
       "      <td>Bank Transfer</td>\n",
       "    </tr>\n",
       "    <tr>\n",
       "      <th>2</th>\n",
       "      <td>4698004907</td>\n",
       "      <td>9/11/2021</td>\n",
       "      <td>435.1</td>\n",
       "      <td>Check</td>\n",
       "    </tr>\n",
       "    <tr>\n",
       "      <th>3</th>\n",
       "      <td>3510240337</td>\n",
       "      <td>12/7/2020</td>\n",
       "      <td>413.1</td>\n",
       "      <td>Check</td>\n",
       "    </tr>\n",
       "    <tr>\n",
       "      <th>4</th>\n",
       "      <td>7501599785</td>\n",
       "      <td>3/4/2019</td>\n",
       "      <td>61.1</td>\n",
       "      <td>Bank Transfer</td>\n",
       "    </tr>\n",
       "  </tbody>\n",
       "</table>\n",
       "</div>"
      ],
      "text/plain": [
       "    client_id payment_date  amount_paid payment_method\n",
       "0  6292156167    9/16/2019        447.0  Bank Transfer\n",
       "1  7462725203    5/21/2018        379.7  Bank Transfer\n",
       "2  4698004907    9/11/2021        435.1          Check\n",
       "3  3510240337    12/7/2020        413.1          Check\n",
       "4  7501599785     3/4/2019         61.1  Bank Transfer"
      ]
     },
     "execution_count": 19,
     "metadata": {},
     "output_type": "execute_result"
    }
   ],
   "source": [
    "payment_info.head()"
   ]
  },
  {
   "cell_type": "code",
   "execution_count": 20,
   "id": "8485443e-5c81-4a39-9bc1-b84cb2f28345",
   "metadata": {},
   "outputs": [
    {
     "data": {
      "text/html": [
       "<div>\n",
       "<style scoped>\n",
       "    .dataframe tbody tr th:only-of-type {\n",
       "        vertical-align: middle;\n",
       "    }\n",
       "\n",
       "    .dataframe tbody tr th {\n",
       "        vertical-align: top;\n",
       "    }\n",
       "\n",
       "    .dataframe thead th {\n",
       "        text-align: right;\n",
       "    }\n",
       "</style>\n",
       "<table border=\"1\" class=\"dataframe\">\n",
       "  <thead>\n",
       "    <tr style=\"text-align: right;\">\n",
       "      <th></th>\n",
       "      <th>client_id</th>\n",
       "      <th>subscription_type</th>\n",
       "      <th>start_date</th>\n",
       "      <th>end_date</th>\n",
       "      <th>renewed</th>\n",
       "    </tr>\n",
       "  </thead>\n",
       "  <tbody>\n",
       "    <tr>\n",
       "      <th>0</th>\n",
       "      <td>1131383004</td>\n",
       "      <td>Yearly</td>\n",
       "      <td>2020-11-11</td>\n",
       "      <td>2021-11-11</td>\n",
       "      <td>False</td>\n",
       "    </tr>\n",
       "    <tr>\n",
       "      <th>1</th>\n",
       "      <td>4309371709</td>\n",
       "      <td>Monthly</td>\n",
       "      <td>2021-05-24</td>\n",
       "      <td>2021-06-23</td>\n",
       "      <td>True</td>\n",
       "    </tr>\n",
       "    <tr>\n",
       "      <th>2</th>\n",
       "      <td>3183675157</td>\n",
       "      <td>Yearly</td>\n",
       "      <td>2021-12-25</td>\n",
       "      <td>2022-12-25</td>\n",
       "      <td>True</td>\n",
       "    </tr>\n",
       "    <tr>\n",
       "      <th>3</th>\n",
       "      <td>5371694837</td>\n",
       "      <td>Monthly</td>\n",
       "      <td>2020-03-14</td>\n",
       "      <td>2020-04-13</td>\n",
       "      <td>True</td>\n",
       "    </tr>\n",
       "    <tr>\n",
       "      <th>4</th>\n",
       "      <td>5157113076</td>\n",
       "      <td>Monthly</td>\n",
       "      <td>2019-11-07</td>\n",
       "      <td>2019-12-07</td>\n",
       "      <td>False</td>\n",
       "    </tr>\n",
       "  </tbody>\n",
       "</table>\n",
       "</div>"
      ],
      "text/plain": [
       "    client_id subscription_type  start_date    end_date  renewed\n",
       "0  1131383004            Yearly  2020-11-11  2021-11-11    False\n",
       "1  4309371709           Monthly  2021-05-24  2021-06-23     True\n",
       "2  3183675157            Yearly  2021-12-25  2022-12-25     True\n",
       "3  5371694837           Monthly  2020-03-14  2020-04-13     True\n",
       "4  5157113076           Monthly  2019-11-07  2019-12-07    False"
      ]
     },
     "execution_count": 20,
     "metadata": {},
     "output_type": "execute_result"
    }
   ],
   "source": [
    "subscription_info.head()"
   ]
  },
  {
   "cell_type": "code",
   "execution_count": 21,
   "id": "ac41796e-98da-49c8-a304-04e0ad069ff7",
   "metadata": {},
   "outputs": [
    {
     "data": {
      "text/html": [
       "<div>\n",
       "<style scoped>\n",
       "    .dataframe tbody tr th:only-of-type {\n",
       "        vertical-align: middle;\n",
       "    }\n",
       "\n",
       "    .dataframe tbody tr th {\n",
       "        vertical-align: top;\n",
       "    }\n",
       "\n",
       "    .dataframe thead th {\n",
       "        text-align: right;\n",
       "    }\n",
       "</style>\n",
       "<table border=\"1\" class=\"dataframe\">\n",
       "  <thead>\n",
       "    <tr style=\"text-align: right;\">\n",
       "      <th></th>\n",
       "      <th>Unnamed: 0</th>\n",
       "      <th>start_date</th>\n",
       "      <th>end_date</th>\n",
       "      <th>inflation_rate</th>\n",
       "      <th>gdp_growth_rate</th>\n",
       "    </tr>\n",
       "  </thead>\n",
       "  <tbody>\n",
       "    <tr>\n",
       "      <th>0</th>\n",
       "      <td>0</td>\n",
       "      <td>2018-01-01</td>\n",
       "      <td>2018-03-31</td>\n",
       "      <td>5.77</td>\n",
       "      <td>3.51</td>\n",
       "    </tr>\n",
       "    <tr>\n",
       "      <th>1</th>\n",
       "      <td>1</td>\n",
       "      <td>2018-04-01</td>\n",
       "      <td>2018-06-30</td>\n",
       "      <td>1.17</td>\n",
       "      <td>2.15</td>\n",
       "    </tr>\n",
       "    <tr>\n",
       "      <th>2</th>\n",
       "      <td>2</td>\n",
       "      <td>2018-07-01</td>\n",
       "      <td>2018-09-30</td>\n",
       "      <td>1.56</td>\n",
       "      <td>1.82</td>\n",
       "    </tr>\n",
       "    <tr>\n",
       "      <th>3</th>\n",
       "      <td>3</td>\n",
       "      <td>2018-10-01</td>\n",
       "      <td>2018-12-31</td>\n",
       "      <td>2.78</td>\n",
       "      <td>2.43</td>\n",
       "    </tr>\n",
       "    <tr>\n",
       "      <th>4</th>\n",
       "      <td>4</td>\n",
       "      <td>2019-01-01</td>\n",
       "      <td>2019-03-31</td>\n",
       "      <td>6.91</td>\n",
       "      <td>3.44</td>\n",
       "    </tr>\n",
       "  </tbody>\n",
       "</table>\n",
       "</div>"
      ],
      "text/plain": [
       "   Unnamed: 0  start_date    end_date  inflation_rate  gdp_growth_rate\n",
       "0           0  2018-01-01  2018-03-31            5.77             3.51\n",
       "1           1  2018-04-01  2018-06-30            1.17             2.15\n",
       "2           2  2018-07-01  2018-09-30            1.56             1.82\n",
       "3           3  2018-10-01  2018-12-31            2.78             2.43\n",
       "4           4  2019-01-01  2019-03-31            6.91             3.44"
      ]
     },
     "execution_count": 21,
     "metadata": {},
     "output_type": "execute_result"
    }
   ],
   "source": [
    "financial_info.head()"
   ]
  },
  {
   "cell_type": "code",
   "execution_count": 22,
   "id": "47b4d572-f025-4ef7-9f22-4fba5dbdccb9",
   "metadata": {},
   "outputs": [
    {
     "data": {
      "text/html": [
       "<div>\n",
       "<style scoped>\n",
       "    .dataframe tbody tr th:only-of-type {\n",
       "        vertical-align: middle;\n",
       "    }\n",
       "\n",
       "    .dataframe tbody tr th {\n",
       "        vertical-align: top;\n",
       "    }\n",
       "\n",
       "    .dataframe thead th {\n",
       "        text-align: right;\n",
       "    }\n",
       "</style>\n",
       "<table border=\"1\" class=\"dataframe\">\n",
       "  <thead>\n",
       "    <tr style=\"text-align: right;\">\n",
       "      <th></th>\n",
       "      <th>client_id</th>\n",
       "      <th>company_size</th>\n",
       "      <th>industry</th>\n",
       "      <th>location</th>\n",
       "    </tr>\n",
       "  </thead>\n",
       "  <tbody>\n",
       "    <tr>\n",
       "      <th>0</th>\n",
       "      <td>4280387012</td>\n",
       "      <td>Large</td>\n",
       "      <td>Finance Lending</td>\n",
       "      <td>Mumbai</td>\n",
       "    </tr>\n",
       "    <tr>\n",
       "      <th>1</th>\n",
       "      <td>2095513148</td>\n",
       "      <td>Small</td>\n",
       "      <td>Finance Lending</td>\n",
       "      <td>Chennai</td>\n",
       "    </tr>\n",
       "    <tr>\n",
       "      <th>2</th>\n",
       "      <td>7225516707</td>\n",
       "      <td>Medium</td>\n",
       "      <td>Finance Lending</td>\n",
       "      <td>New Delhi</td>\n",
       "    </tr>\n",
       "    <tr>\n",
       "      <th>3</th>\n",
       "      <td>8093537819</td>\n",
       "      <td>Large</td>\n",
       "      <td>Block Chain</td>\n",
       "      <td>Mumbai</td>\n",
       "    </tr>\n",
       "    <tr>\n",
       "      <th>4</th>\n",
       "      <td>4387541014</td>\n",
       "      <td>Medium</td>\n",
       "      <td>Hyper Local</td>\n",
       "      <td>Banglore</td>\n",
       "    </tr>\n",
       "  </tbody>\n",
       "</table>\n",
       "</div>"
      ],
      "text/plain": [
       "    client_id company_size         industry   location\n",
       "0  4280387012        Large  Finance Lending     Mumbai\n",
       "1  2095513148        Small  Finance Lending    Chennai\n",
       "2  7225516707       Medium  Finance Lending  New Delhi\n",
       "3  8093537819        Large      Block Chain     Mumbai\n",
       "4  4387541014       Medium      Hyper Local   Banglore"
      ]
     },
     "execution_count": 22,
     "metadata": {},
     "output_type": "execute_result"
    }
   ],
   "source": [
    "industry_client_details.head()"
   ]
  },
  {
   "cell_type": "code",
   "execution_count": 23,
   "id": "c8c917f4-9f86-4f13-abf4-42920cc52a44",
   "metadata": {},
   "outputs": [],
   "source": [
    "# Coverting all date columns to datetime format\n",
    "payment_info[\"payment_date\"] = pd.to_datetime(payment_info[\"payment_date\"])\n",
    "subscription_info[\"start_date\"] = pd.to_datetime(subscription_info[\"start_date\"])\n",
    "subscription_info[\"end_date\"] = pd.to_datetime(subscription_info[\"end_date\"])\n",
    "financial_info[\"start_date\"] = pd.to_datetime(financial_info[\"start_date\"])\n",
    "financial_info[\"end_date\"] = pd.to_datetime(financial_info[\"end_date\"])"
   ]
  },
  {
   "cell_type": "markdown",
   "id": "79b7a598-879f-457c-a290-7ff143eef8d8",
   "metadata": {},
   "source": [
    "# Question 1: How many finance lending and blockchain clients does the organization have?"
   ]
  },
  {
   "cell_type": "code",
   "execution_count": 24,
   "id": "86612dc3-62b7-452f-a5fc-cc1c5a07106c",
   "metadata": {},
   "outputs": [
    {
     "name": "stdout",
     "output_type": "stream",
     "text": [
      "Number of Finance Lending clients: 22\n",
      "Number of Blockchain clients: 25\n",
      "Number of Blockchain and Finance Lending clients Combined: 47\n"
     ]
    }
   ],
   "source": [
    "finance_lending_clients = industry_client_details[industry_client_details['industry'] == 'Finance Lending']['client_id'].nunique()\n",
    "blockchain_clients = industry_client_details[industry_client_details['industry'] == 'Block Chain']['client_id'].nunique()\n",
    "finance_and_blockchain_clients = industry_client_details[industry_client_details['industry'].isin(['Block Chain','Finance Lending'])]['client_id'].nunique()\n",
    "print(f\"Number of Finance Lending clients: {finance_lending_clients}\")\n",
    "print(f\"Number of Blockchain clients: {blockchain_clients}\")\n",
    "print(f\"Number of Blockchain and Finance Lending clients Combined: {blockchain_clients+finance_lending_clients}\")"
   ]
  },
  {
   "cell_type": "markdown",
   "id": "f87c367c-638f-40ea-a519-669eb5e8d5f1",
   "metadata": {},
   "source": [
    "# Question 2: Which industry in the organization has the highest renewal rate?"
   ]
  },
  {
   "cell_type": "code",
   "execution_count": 25,
   "id": "bd5b26a9-2cf7-46fd-8fed-5b6efc9d5343",
   "metadata": {},
   "outputs": [
    {
     "name": "stdout",
     "output_type": "stream",
     "text": [
      "(100, 5)\n",
      "(100, 4)\n",
      "(100, 8)\n"
     ]
    }
   ],
   "source": [
    "# Merge subscription_info with industry_client_details to get industry information\n",
    "merged_subscription_industry = pd.merge(subscription_info, industry_client_details, on='client_id', how='outer')\n",
    "print(subscription_info.shape)\n",
    "print(industry_client_details.shape)\n",
    "print(merged_subscription_industry.shape)"
   ]
  },
  {
   "cell_type": "code",
   "execution_count": 26,
   "id": "2af49107-4ed6-4363-9246-aadcdca7d847",
   "metadata": {
    "scrolled": true
   },
   "outputs": [
    {
     "data": {
      "text/html": [
       "<div>\n",
       "<style scoped>\n",
       "    .dataframe tbody tr th:only-of-type {\n",
       "        vertical-align: middle;\n",
       "    }\n",
       "\n",
       "    .dataframe tbody tr th {\n",
       "        vertical-align: top;\n",
       "    }\n",
       "\n",
       "    .dataframe thead th {\n",
       "        text-align: right;\n",
       "    }\n",
       "</style>\n",
       "<table border=\"1\" class=\"dataframe\">\n",
       "  <thead>\n",
       "    <tr style=\"text-align: right;\">\n",
       "      <th></th>\n",
       "      <th>client_id</th>\n",
       "      <th>subscription_type</th>\n",
       "      <th>start_date</th>\n",
       "      <th>end_date</th>\n",
       "      <th>renewed</th>\n",
       "      <th>company_size</th>\n",
       "      <th>industry</th>\n",
       "      <th>location</th>\n",
       "    </tr>\n",
       "  </thead>\n",
       "  <tbody>\n",
       "    <tr>\n",
       "      <th>0</th>\n",
       "      <td>1131383004</td>\n",
       "      <td>Yearly</td>\n",
       "      <td>2020-11-11</td>\n",
       "      <td>2021-11-11</td>\n",
       "      <td>False</td>\n",
       "      <td>Large</td>\n",
       "      <td>Finance Lending</td>\n",
       "      <td>Banglore</td>\n",
       "    </tr>\n",
       "    <tr>\n",
       "      <th>1</th>\n",
       "      <td>4309371709</td>\n",
       "      <td>Monthly</td>\n",
       "      <td>2021-05-24</td>\n",
       "      <td>2021-06-23</td>\n",
       "      <td>True</td>\n",
       "      <td>Large</td>\n",
       "      <td>Hyper Local</td>\n",
       "      <td>Hyderabad</td>\n",
       "    </tr>\n",
       "    <tr>\n",
       "      <th>2</th>\n",
       "      <td>3183675157</td>\n",
       "      <td>Yearly</td>\n",
       "      <td>2021-12-25</td>\n",
       "      <td>2022-12-25</td>\n",
       "      <td>True</td>\n",
       "      <td>Small</td>\n",
       "      <td>Gaming</td>\n",
       "      <td>Chennai</td>\n",
       "    </tr>\n",
       "    <tr>\n",
       "      <th>3</th>\n",
       "      <td>5371694837</td>\n",
       "      <td>Monthly</td>\n",
       "      <td>2020-03-14</td>\n",
       "      <td>2020-04-13</td>\n",
       "      <td>True</td>\n",
       "      <td>Large</td>\n",
       "      <td>AI</td>\n",
       "      <td>New Delhi</td>\n",
       "    </tr>\n",
       "    <tr>\n",
       "      <th>4</th>\n",
       "      <td>5157113076</td>\n",
       "      <td>Monthly</td>\n",
       "      <td>2019-11-07</td>\n",
       "      <td>2019-12-07</td>\n",
       "      <td>False</td>\n",
       "      <td>Medium</td>\n",
       "      <td>Gaming</td>\n",
       "      <td>Banglore</td>\n",
       "    </tr>\n",
       "  </tbody>\n",
       "</table>\n",
       "</div>"
      ],
      "text/plain": [
       "    client_id subscription_type start_date   end_date  renewed company_size  \\\n",
       "0  1131383004            Yearly 2020-11-11 2021-11-11    False        Large   \n",
       "1  4309371709           Monthly 2021-05-24 2021-06-23     True        Large   \n",
       "2  3183675157            Yearly 2021-12-25 2022-12-25     True        Small   \n",
       "3  5371694837           Monthly 2020-03-14 2020-04-13     True        Large   \n",
       "4  5157113076           Monthly 2019-11-07 2019-12-07    False       Medium   \n",
       "\n",
       "          industry   location  \n",
       "0  Finance Lending   Banglore  \n",
       "1      Hyper Local  Hyderabad  \n",
       "2           Gaming    Chennai  \n",
       "3               AI  New Delhi  \n",
       "4           Gaming   Banglore  "
      ]
     },
     "execution_count": 26,
     "metadata": {},
     "output_type": "execute_result"
    }
   ],
   "source": [
    "merged_subscription_industry.head()"
   ]
  },
  {
   "cell_type": "markdown",
   "id": "304fe28c-c551-405b-896e-4b6613d8b08d",
   "metadata": {},
   "source": [
    "## since the shape is same after join we can say both dataframes are unique on ClientId level so we can directly do a group by on industry and take the mean of the renewed column"
   ]
  },
  {
   "cell_type": "code",
   "execution_count": 27,
   "id": "0cdcbf1e-8306-4be1-8430-25244729ba95",
   "metadata": {},
   "outputs": [
    {
     "data": {
      "text/plain": [
       "industry\n",
       "Gaming             0.727273\n",
       "AI                 0.636364\n",
       "Finance Lending    0.545455\n",
       "Hyper Local        0.450000\n",
       "Block Chain        0.440000\n",
       "Name: renewed, dtype: float64"
      ]
     },
     "execution_count": 27,
     "metadata": {},
     "output_type": "execute_result"
    }
   ],
   "source": [
    "renewal_rate_by_industry = merged_subscription_industry.groupby('industry')['renewed'].mean().sort_values(ascending=False)\n",
    "renewal_rate_by_industry"
   ]
  },
  {
   "cell_type": "code",
   "execution_count": 28,
   "id": "5bab96b7-bed7-4f18-9a8f-ae66cf0deb60",
   "metadata": {},
   "outputs": [
    {
     "name": "stdout",
     "output_type": "stream",
     "text": [
      "The industry with the highest renewal rate is Gaming with a renewal rate of 72.73%\n"
     ]
    }
   ],
   "source": [
    "highest_renewal_industry = renewal_rate_by_industry.idxmax()\n",
    "highest_renewal_rate = renewal_rate_by_industry.max()\n",
    "print(f\"The industry with the highest renewal rate is {highest_renewal_industry} with a renewal rate of {highest_renewal_rate:.2%}\")"
   ]
  },
  {
   "cell_type": "markdown",
   "id": "ea710d66-1cd5-4e5d-bcb3-18411e09787f",
   "metadata": {},
   "source": [
    "# Question 3: What was the average inflation rate when their subscriptions were renewed?"
   ]
  },
  {
   "cell_type": "code",
   "execution_count": 29,
   "id": "04cd938f-0518-43c5-a73a-4b4dcc983547",
   "metadata": {},
   "outputs": [],
   "source": [
    "# Filtering only renewed subscriptions\n",
    "renewed_subs = subscription_info[subscription_info[\"renewed\"] == True]"
   ]
  },
  {
   "cell_type": "markdown",
   "id": "0b34763c-f041-4098-b82d-64a0c4654eb7",
   "metadata": {},
   "source": [
    "#### Assuming right after the end date of their subscription, the new subscription gets renewed so taking the end date as new renewal date"
   ]
  },
  {
   "cell_type": "code",
   "execution_count": 30,
   "id": "6a7e84d1-4e36-47b1-bd43-e41375522206",
   "metadata": {},
   "outputs": [
    {
     "name": "stdout",
     "output_type": "stream",
     "text": [
      "The average inflation rate is 4.3118\n"
     ]
    }
   ],
   "source": [
    "# Creating a function for matching the renewal date with inflation date ranges\n",
    "def get_inflation_rate(renewal_date):\n",
    "    for _, row in financial_info.iterrows():\n",
    "        if row[\"start_date\"] <= renewal_date <= row[\"end_date\"]:\n",
    "            return row[\"inflation_rate\"]\n",
    "    return None\n",
    "\n",
    "renewed_subs[\"renewal_inflation\"] = renewed_subs[\"end_date\"].apply(get_inflation_rate)\n",
    "average_inflation_at_renewal = renewed_subs[\"renewal_inflation\"].dropna().mean()\n",
    "print(f\"The average inflation rate is {average_inflation_at_renewal}\")"
   ]
  },
  {
   "cell_type": "markdown",
   "id": "c9a8c2fa-802b-497c-a0f7-39ace544c3d5",
   "metadata": {},
   "source": [
    "# Question 4: What is the median amount paid each year for all payment methods?"
   ]
  },
  {
   "cell_type": "markdown",
   "id": "9a87c16b-bee7-47a8-8eb7-f291e4b39023",
   "metadata": {},
   "source": [
    "#### Assuming the question is to calculate the median amount of each year for all payments combined"
   ]
  },
  {
   "cell_type": "code",
   "execution_count": 31,
   "id": "d0840680-99b2-41cf-8925-dcc28cfae050",
   "metadata": {},
   "outputs": [
    {
     "name": "stdout",
     "output_type": "stream",
     "text": [
      "Median amount paid each year:\n",
      "year\n",
      "2018    235.7\n",
      "2019    360.9\n",
      "2020    284.5\n",
      "2021    306.8\n",
      "2022    288.0\n",
      "Name: amount_paid, dtype: float64\n"
     ]
    }
   ],
   "source": [
    "# Extract year from payment_date\n",
    "payment_info['year'] = payment_info['payment_date'].dt.year\n",
    "# Calculate median amount paid each year\n",
    "median_amount_paid_per_year = payment_info.groupby('year')['amount_paid'].median()\n",
    "print(\"Median amount paid each year:\")\n",
    "print(median_amount_paid_per_year)"
   ]
  },
  {
   "cell_type": "code",
   "execution_count": null,
   "id": "7998c278-de7d-4c3c-8ddf-c112116e29c5",
   "metadata": {},
   "outputs": [],
   "source": []
  }
 ],
 "metadata": {
  "kernelspec": {
   "display_name": "Python 3 (ipykernel)",
   "language": "python",
   "name": "python3"
  },
  "language_info": {
   "codemirror_mode": {
    "name": "ipython",
    "version": 3
   },
   "file_extension": ".py",
   "mimetype": "text/x-python",
   "name": "python",
   "nbconvert_exporter": "python",
   "pygments_lexer": "ipython3",
   "version": "3.11.7"
  },
  "widgets": {
   "application/vnd.jupyter.widget-state+json": {
    "state": {},
    "version_major": 2,
    "version_minor": 0
   }
  }
 },
 "nbformat": 4,
 "nbformat_minor": 5
}
